{
 "cells": [
  {
   "cell_type": "code",
   "execution_count": 24,
   "metadata": {},
   "outputs": [],
   "source": [
    "import matplotlib.pyplot as plt\n",
    "import numpy as np\n",
    "import pandas as pd\n",
    "#import seaborn as sns\n",
    "\n",
    "# Make NumPy printouts easier to read.\n",
    "np.set_printoptions(precision=3, suppress=True)"
   ]
  },
  {
   "cell_type": "code",
   "execution_count": 25,
   "metadata": {},
   "outputs": [
    {
     "data": {
      "text/plain": [
       "'C:\\\\Users\\\\Hooman\\\\.conda\\\\envs\\\\tf'"
      ]
     },
     "execution_count": 25,
     "metadata": {},
     "output_type": "execute_result"
    }
   ],
   "source": [
    "import os\n",
    "os.environ['PATH'].split(';')[0]"
   ]
  },
  {
   "cell_type": "code",
   "execution_count": 26,
   "metadata": {},
   "outputs": [
    {
     "name": "stdout",
     "output_type": "stream",
     "text": [
      "2.7.0\n"
     ]
    }
   ],
   "source": [
    "import tensorflow as tf\n",
    "\n",
    "from tensorflow import keras\n",
    "from tensorflow.keras import layers\n",
    "\n",
    "print(tf.__version__)"
   ]
  },
  {
   "cell_type": "code",
   "execution_count": null,
   "metadata": {},
   "outputs": [
    {
     "data": {
      "text/plain": [
       "<AxesSubplot:>"
      ]
     },
     "execution_count": 34,
     "metadata": {},
     "output_type": "execute_result"
    },
    {
     "data": {
      "text/plain": [
       "<Figure size 432x288 with 0 Axes>"
      ]
     },
     "metadata": {},
     "output_type": "display_data"
    }
   ],
   "source": [
    "df=pd.DataFrame(np.random.random((1000,2)),columns=['A','B'])\n",
    "df.index=np.arange(df.shape[0])\n",
    "df.sort_values('A',inplace=True)\n",
    "df['C']= (df['A']+df['B'])**2+df['A']**3\n",
    "plt.figure()\n",
    "df.plot()"
   ]
  },
  {
   "cell_type": "code",
   "execution_count": null,
   "metadata": {},
   "outputs": [],
   "source": []
  },
  {
   "cell_type": "code",
   "execution_count": 28,
   "metadata": {},
   "outputs": [],
   "source": [
    "# plt.figure()\n",
    "# plt.plot(df.A,df.C)"
   ]
  },
  {
   "cell_type": "code",
   "execution_count": 29,
   "metadata": {},
   "outputs": [],
   "source": [
    "normalizer = tf.keras.layers.Normalization(axis=-1)\n",
    "normalizer.adapt(np.array(df[['A','B']]))\n"
   ]
  },
  {
   "cell_type": "code",
   "execution_count": 30,
   "metadata": {},
   "outputs": [],
   "source": [
    "def build_and_compile_model(norm):\n",
    "    model = keras.Sequential([\n",
    "          norm,\n",
    "          layers.Dense(2, activation='relu'),\n",
    "          layers.Dense(5, activation='relu'),\n",
    "          layers.Dense(1)\n",
    "      ])\n",
    "\n",
    "    model.compile(loss='mean_absolute_error',\n",
    "                optimizer=tf.keras.optimizers.Adam(0.001))\n",
    "    return model\n",
    "mdl = build_and_compile_model(normalizer)"
   ]
  },
  {
   "cell_type": "code",
   "execution_count": 31,
   "metadata": {},
   "outputs": [],
   "source": [
    "history = mdl.fit(\n",
    "    df[['A','B']],\n",
    "    df['C'],\n",
    "    epochs=100,\n",
    "    # Suppress logging.\n",
    "    verbose=0,\n",
    "    # Calculate validation results on 20% of the training data.\n",
    "    validation_split = 0.2)"
   ]
  },
  {
   "cell_type": "code",
   "execution_count": 32,
   "metadata": {},
   "outputs": [],
   "source": [
    "#dir(history)"
   ]
  },
  {
   "cell_type": "code",
   "execution_count": 33,
   "metadata": {
    "scrolled": false
   },
   "outputs": [
    {
     "data": {
      "text/plain": [
       "[0.9443891644477844,\n",
       " 0.903950572013855,\n",
       " 0.8648673295974731,\n",
       " 0.8248228430747986,\n",
       " 0.7869557738304138,\n",
       " 0.7530274987220764,\n",
       " 0.7225598096847534,\n",
       " 0.6952377557754517,\n",
       " 0.6717420816421509,\n",
       " 0.6504598259925842,\n",
       " 0.6326192617416382,\n",
       " 0.6174429059028625,\n",
       " 0.6034175753593445,\n",
       " 0.5873181819915771,\n",
       " 0.5661524534225464,\n",
       " 0.5343784093856812,\n",
       " 0.492195725440979,\n",
       " 0.4383021593093872,\n",
       " 0.37332114577293396,\n",
       " 0.316987007856369,\n",
       " 0.28377997875213623,\n",
       " 0.265488862991333,\n",
       " 0.25015392899513245,\n",
       " 0.2364768087863922,\n",
       " 0.2231270670890808,\n",
       " 0.20982199907302856,\n",
       " 0.1959415078163147,\n",
       " 0.18156957626342773,\n",
       " 0.16678613424301147,\n",
       " 0.15256129205226898,\n",
       " 0.13938851654529572,\n",
       " 0.12652486562728882,\n",
       " 0.1165892481803894,\n",
       " 0.10576533526182175,\n",
       " 0.09695254266262054,\n",
       " 0.09004893898963928,\n",
       " 0.08408018946647644,\n",
       " 0.0796438679099083,\n",
       " 0.07560545206069946,\n",
       " 0.07235102355480194,\n",
       " 0.0701008066534996,\n",
       " 0.06700132042169571,\n",
       " 0.06538121402263641,\n",
       " 0.06447387486696243,\n",
       " 0.06305304169654846,\n",
       " 0.06304479390382767,\n",
       " 0.06032557412981987,\n",
       " 0.06012013554573059,\n",
       " 0.059016913175582886,\n",
       " 0.058333735913038254,\n",
       " 0.05820488929748535,\n",
       " 0.05761007219552994,\n",
       " 0.05685058981180191,\n",
       " 0.056372951716184616,\n",
       " 0.0554489940404892,\n",
       " 0.0552167184650898,\n",
       " 0.05524422228336334,\n",
       " 0.05445477366447449,\n",
       " 0.0546250157058239,\n",
       " 0.054289430379867554,\n",
       " 0.054164811968803406,\n",
       " 0.05380721017718315,\n",
       " 0.05357667803764343,\n",
       " 0.053597260266542435,\n",
       " 0.05359148606657982,\n",
       " 0.05390533432364464,\n",
       " 0.0537964329123497,\n",
       " 0.053832732141017914,\n",
       " 0.05400561913847923,\n",
       " 0.05361662805080414,\n",
       " 0.05332336947321892,\n",
       " 0.05314828082919121,\n",
       " 0.053106699138879776,\n",
       " 0.053378667682409286,\n",
       " 0.053377047181129456,\n",
       " 0.053929224610328674,\n",
       " 0.053320303559303284,\n",
       " 0.053082939237356186,\n",
       " 0.05281628295779228,\n",
       " 0.05324266105890274,\n",
       " 0.052676230669021606,\n",
       " 0.05249878391623497,\n",
       " 0.05253015086054802,\n",
       " 0.05338118225336075,\n",
       " 0.05259675905108452,\n",
       " 0.05243975296616554,\n",
       " 0.05299602076411247,\n",
       " 0.052797362208366394,\n",
       " 0.053027261048555374,\n",
       " 0.053448840975761414,\n",
       " 0.05258740484714508,\n",
       " 0.05249056965112686,\n",
       " 0.05273013934493065,\n",
       " 0.05260410159826279,\n",
       " 0.05219660699367523,\n",
       " 0.0520133450627327,\n",
       " 0.05256636068224907,\n",
       " 0.052573055028915405,\n",
       " 0.05266376957297325,\n",
       " 0.05191565677523613]"
      ]
     },
     "execution_count": 33,
     "metadata": {},
     "output_type": "execute_result"
    }
   ],
   "source": [
    "history.history['loss']"
   ]
  }
 ],
 "metadata": {
  "kernelspec": {
   "display_name": "Python 3",
   "language": "python",
   "name": "python3"
  },
  "language_info": {
   "codemirror_mode": {
    "name": "ipython",
    "version": 3
   },
   "file_extension": ".py",
   "mimetype": "text/x-python",
   "name": "python",
   "nbconvert_exporter": "python",
   "pygments_lexer": "ipython3",
   "version": "3.7.11"
  }
 },
 "nbformat": 4,
 "nbformat_minor": 2
}
