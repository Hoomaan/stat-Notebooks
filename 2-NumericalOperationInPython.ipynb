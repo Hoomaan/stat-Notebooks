{
 "cells": [
  {
   "cell_type": "markdown",
   "metadata": {},
   "source": [
    "# This notebook looks at basic numerical operations using numpy\n"
   ]
  },
  {
   "cell_type": "markdown",
   "metadata": {},
   "source": [
    "## __For numerical calculations python has  numpy package__"
   ]
  },
  {
   "cell_type": "code",
   "execution_count": 88,
   "metadata": {},
   "outputs": [],
   "source": [
    "import numpy as np"
   ]
  },
  {
   "cell_type": "markdown",
   "metadata": {},
   "source": [
    "## Matrix dimenstions and manipulating them\n",
    "Let's make a one dimensional array and manipulate it"
   ]
  },
  {
   "cell_type": "code",
   "execution_count": 89,
   "metadata": {},
   "outputs": [
    {
     "name": "stdout",
     "output_type": "stream",
     "text": [
      "[1 2 3 4 5 6]\n",
      "(6,)\n",
      "[ 2  4  6  8 10 12]\n",
      "[13 23 33 43 53 63]\n",
      "[ 2  4  8 16 32 64]\n"
     ]
    }
   ],
   "source": [
    "v=np.array([1,2,3,4,5,6])\n",
    "print(v)\n",
    "print(v.shape)\n",
    "print(v+v)\n",
    "print(10*v+3)\n",
    "print(2**v)"
   ]
  },
  {
   "cell_type": "markdown",
   "metadata": {},
   "source": [
    "The vector above looked like a row vector so transposing it should give a column vector."
   ]
  },
  {
   "cell_type": "code",
   "execution_count": 90,
   "metadata": {},
   "outputs": [
    {
     "name": "stdout",
     "output_type": "stream",
     "text": [
      "[1 2 3 4 5 6]\n",
      "(6,)\n"
     ]
    }
   ],
   "source": [
    "print(np.transpose(v))\n",
    "print(np.transpose(v).shape)"
   ]
  },
  {
   "cell_type": "code",
   "execution_count": 91,
   "metadata": {
    "scrolled": true
   },
   "outputs": [
    {
     "name": "stdout",
     "output_type": "stream",
     "text": [
      "v1:[1 2 3 4 5 6]\n",
      "v2:[[1 2 3 4 5 6]]\n",
      "v1 shape:(6,)\n",
      "v2 shape:(1, 6)\n",
      "Doing transpose:\n",
      "v1:[1 2 3 4 5 6]\n",
      "v1:[[1]\n",
      " [2]\n",
      " [3]\n",
      " [4]\n",
      " [5]\n",
      " [6]]\n"
     ]
    }
   ],
   "source": [
    "v1=np.array([1,2,3,4,5,6])\n",
    "v2=v1.reshape((1,6)) # reshape is quite useful \n",
    "print('v1:{}'.format(v1))\n",
    "print('v2:{}'.format(v2))\n",
    "#v1 and v2 looks similar but one of them is one dimensional and the other one is not\n",
    "print('v1 shape:{}'.format( v1.shape  ))\n",
    "print('v2 shape:{}'.format( v2.shape  ))\n",
    "#\n",
    "print(\"Doing transpose:\")\n",
    "print('v1:{}'.format( np.transpose(v1)  ))\n",
    "print('v1:{}'.format( np.transpose(v2) ))\n",
    "#\"Transposing a 1-D array returns an unchanged view of the original array.\" : Numpy documentation"
   ]
  },
  {
   "cell_type": "markdown",
   "metadata": {},
   "source": [
    "## Basic matrics"
   ]
  },
  {
   "cell_type": "code",
   "execution_count": 92,
   "metadata": {},
   "outputs": [
    {
     "name": "stdout",
     "output_type": "stream",
     "text": [
      "np.ones(3) :[1. 1. 1.]\n",
      "np.zeros(3) :[0. 0. 0.]\n",
      "np.linspace(0,10,11) :[ 0.  1.  2.  3.  4.  5.  6.  7.  8.  9. 10.]\n",
      "np.logspace(0,5,6) :[1.e+00 1.e+01 1.e+02 1.e+03 1.e+04 1.e+05]\n",
      "random samples from a uniform distribution over [0, 1): np.random.rand(3) :[0.43120887 0.89626571 0.32718574]\n",
      "random samples from a Gaussian distribution of mean 0 and variance 1: np.random.randn(3) :[ 1.0429677   0.19167475 -2.20982663]\n",
      "random samples from a Gaussian distribution of mean 10 and Standard deviation 2: np.random.normal(10,2,(3,4)) :\n",
      "[[ 9.90582678 12.45080418  8.3359666  10.07536508]\n",
      " [11.556831    9.46861835  8.25027777  8.55449327]\n",
      " [12.87671382 11.22874336 12.39207338 10.24879257]]\n"
     ]
    }
   ],
   "source": [
    "print('np.ones(3) :{}'.format( np.ones(3)  ))\n",
    "print('np.zeros(3) :{}'.format( np.zeros(3)  ))\n",
    "print('np.linspace(0,10,11) :{}'.format( np.linspace(0,10,11)  ))\n",
    "print('np.logspace(0,5,6) :{}'.format( np.logspace(0,5,6)  ))\n",
    "print('random samples from a uniform distribution over [0, 1): np.random.rand(3) :{}'.format( np.random.rand(3)  ))\n",
    "print('random samples from a Gaussian distribution of mean 0 and variance 1: np.random.randn(3) :{}'.format( np.random.randn(3)  ))\n",
    "print('random samples from a Gaussian distribution of mean 10 and Standard deviation 2: np.random.normal(10,2,(3,4)) :\\n{}'.format( np.random.normal(10,2,(3,4))  ))\n",
    "#print('np. :{}'.format( np.  ))\n",
    "#print('np. :{}'.format( np.  ))\n"
   ]
  },
  {
   "cell_type": "markdown",
   "metadata": {},
   "source": [
    "There are many distributions available:\n",
    "https://docs.scipy.org/doc/numpy-1.14.1/reference/routines.random.html"
   ]
  },
  {
   "cell_type": "markdown",
   "metadata": {},
   "source": [
    "## Elementwise operations:"
   ]
  },
  {
   "cell_type": "code",
   "execution_count": 93,
   "metadata": {},
   "outputs": [
    {
     "name": "stdout",
     "output_type": "stream",
     "text": [
      "v1:\n",
      " [[1 2]\n",
      " [3 4]]\n",
      "v2:\n",
      " [[ 1  2]\n",
      " [10 10]]\n",
      "Elementwise addition v1+v2:\n",
      " [[ 2  4]\n",
      " [13 14]]\n",
      "Elementwise multiplication np.multiply(v1,v2):\n",
      " [[ 1  4]\n",
      " [30 40]]\n",
      "Elementwise multiplication np.multiply(v2,v1):\n",
      " [[ 1  4]\n",
      " [30 40]]\n",
      "Elementwise multiplication v1*v2 (Short hand notation) :\n",
      " [[ 1  4]\n",
      " [30 40]]\n"
     ]
    }
   ],
   "source": [
    "#Adding elements\n",
    "v1=np.array([1,2,3,4]).reshape(2,2)\n",
    "v2=np.array([1,2,10,10]).reshape(2,2)\n",
    "print( \"v1:\\n {}\".format( v1 ) )\n",
    "print( \"v2:\\n {}\".format( v2 ) )\n",
    "print( \"Elementwise addition v1+v2:\\n {}\".format(v1+v2  ) )\n",
    "\n",
    "print( \"Elementwise multiplication np.multiply(v1,v2):\\n {}\".format( np.multiply(v1,v2) ) )\n",
    "print( \"Elementwise multiplication np.multiply(v2,v1):\\n {}\".format( np.multiply(v2,v1) ) )\n",
    "\n",
    "print( \"Elementwise multiplication v1*v2 (Short hand notation) :\\n {}\".format(v1*v2  ) )"
   ]
  },
  {
   "cell_type": "markdown",
   "metadata": {},
   "source": [
    "## Matrix operation:"
   ]
  },
  {
   "cell_type": "code",
   "execution_count": 94,
   "metadata": {},
   "outputs": [
    {
     "name": "stdout",
     "output_type": "stream",
     "text": [
      "v1:\n",
      " [[1 2]\n",
      " [3 4]]\n",
      "v2:\n",
      " [[ 1  2]\n",
      " [10 10]]\n",
      "Matrix multiplication np.dot(v1,v2):\n",
      " [[21 22]\n",
      " [43 46]]\n",
      "Matrix multiplication np.dot(v2,v1):\n",
      " [[ 7 10]\n",
      " [40 60]]\n",
      "Matrix multiplication v1@v2:  short hand notation @:\n",
      " [[21 22]\n",
      " [43 46]]\n"
     ]
    }
   ],
   "source": [
    "v1=np.array([1,2,3,4]).reshape(2,2)\n",
    "v2=np.array([1,2,10,10]).reshape(2,2)\n",
    "print( \"v1:\\n {}\".format( v1 ) )\n",
    "print( \"v2:\\n {}\".format( v2 ) )\n",
    "\n",
    "print( \"Matrix multiplication np.dot(v1,v2):\\n {}\".format( np.dot(v1,v2) ) )\n",
    "\n",
    "print( \"Matrix multiplication np.dot(v2,v1):\\n {}\".format( np.dot(v2,v1) ) )\n",
    "\n",
    "print( \"Matrix multiplication v1@v2:  short hand notation @:\\n {}\".format( v1@v2) ) \n"
   ]
  },
  {
   "cell_type": "markdown",
   "metadata": {},
   "source": [
    "## Broadcasting\n",
    "\"The term broadcasting describes how numpy treats arrays with different shapes during arithmetic operations. Subject to certain constraints, the smaller array is “broadcast” across the larger array so that they have compatible shapes. Broadcasting provides a means of vectorizing array operations so that looping occurs in C instead of Python. It does this without making needless copies of data and usually leads to efficient algorithm implementations. There are, however, cases where broadcasting is a bad idea because it leads to inefficient use of memory that slows computation\"\n",
    "https://docs.scipy.org/doc/numpy-1.10.0/user/basics.broadcasting.html\n"
   ]
  },
  {
   "cell_type": "code",
   "execution_count": 95,
   "metadata": {},
   "outputs": [
    {
     "name": "stdout",
     "output_type": "stream",
     "text": [
      "v1 +10:\n",
      " [[11 12]\n",
      " [13 14]]\n",
      "v1 +np.array([10,20]):\n",
      " [[11 22]\n",
      " [13 24]]\n",
      "v1 +np.array([[10],[20]]):\n",
      " [[11 12]\n",
      " [23 24]]\n"
     ]
    }
   ],
   "source": [
    "v1=np.array([1,2,3,4]).reshape(2,2)\n",
    "print( \"v1 +10:\\n {}\".format( v1+10 ) )\n",
    "print( \"v1 +np.array([10,20]):\\n {}\".format( v1+np.array([10,20]) ) )\n",
    "print( \"v1 +np.array([[10],[20]]):\\n {}\".format( v1+np.array([[10],[20]]) ) )"
   ]
  },
  {
   "cell_type": "code",
   "execution_count": 96,
   "metadata": {},
   "outputs": [
    {
     "name": "stdout",
     "output_type": "stream",
     "text": [
      "v1:\n",
      " [[0]\n",
      " [1]\n",
      " [2]\n",
      " [3]]\n",
      "v2:\n",
      " [1. 1. 1. 1. 1.]\n",
      "v1+v2:\n",
      " [[1. 1. 1. 1. 1.]\n",
      " [2. 2. 2. 2. 2.]\n",
      " [3. 3. 3. 3. 3.]\n",
      " [4. 4. 4. 4. 4.]]\n",
      "v1+v2:\n",
      " [[1. 1. 1. 1. 1.]\n",
      " [2. 2. 2. 2. 2.]\n",
      " [3. 3. 3. 3. 3.]\n",
      " [4. 4. 4. 4. 4.]]\n",
      "v1+v3:\n",
      " [[1. 1. 1. 1. 1. 1. 1.]\n",
      " [2. 2. 2. 2. 2. 2. 2.]\n",
      " [3. 3. 3. 3. 3. 3. 3.]\n",
      " [4. 4. 4. 4. 4. 4. 4.]]\n",
      "----------- uncompatible broadcasting -------------\n",
      "v1 :\n",
      " [[0]\n",
      " [1]\n",
      " [2]\n",
      " [3]]\n",
      " v4:\n",
      " [[1. 1. 1. 1.]\n",
      " [1. 1. 1. 1.]\n",
      " [1. 1. 1. 1.]\n",
      " [1. 1. 1. 1.]\n",
      " [1. 1. 1. 1.]\n",
      " [1. 1. 1. 1.]\n",
      " [1. 1. 1. 1.]]\n",
      "Try to do v1+v4:\n",
      " \n",
      "Error: operands could not be broadcast together with shapes (4,1) (7,4) \n"
     ]
    }
   ],
   "source": [
    "v1 = np.arange(4).reshape(4,1)\n",
    "v2 = np.ones(5)\n",
    "v3 = np.ones((4,7))\n",
    "v4 = np.ones((7,4))\n",
    "print( \"v1:\\n {}\".format( v1 ) )\n",
    "print( \"v2:\\n {}\".format( v2 ) )\n",
    "print( \"v1+v2:\\n {}\".format( v1+v2 ) )\n",
    "print( \"v1+v2:\\n {}\".format( v2+v1 ) )\n",
    "print( \"v1+v3:\\n {}\".format( v1+v3 ) )\n",
    "try:\n",
    "    print( \"v1+v4:\\n {}\".format( v1+v4 ) )\n",
    "except Exception as e:\n",
    "    print('----------- uncompatible broadcasting -------------')\n",
    "    print( \"v1 :\\n {}\".format(v1) )\n",
    "    print( \" v4:\\n {}\".format(v4) )\n",
    "    print( \"Try to do v1+v4:\\n \" )\n",
    "    print('Error: '+ str(e))\n"
   ]
  },
  {
   "cell_type": "markdown",
   "metadata": {},
   "source": [
    "## Basic exploratory operations"
   ]
  },
  {
   "cell_type": "code",
   "execution_count": 97,
   "metadata": {},
   "outputs": [
    {
     "name": "stdout",
     "output_type": "stream",
     "text": [
      "x:\n",
      " [1 1 2 2 3 3 4 4]\n",
      "np.min(x): 1\n",
      "np.max(x): 4\n",
      "Unique elements: np.unique(x):\n",
      " [1 2 3 4]\n",
      "np.mean(x): 2.5\n",
      "np.std(x): 1.118033988749895\n"
     ]
    }
   ],
   "source": [
    "x=np.array([1,1,2,2,3,3,4,4])\n",
    "print( \"x:\\n {}\".format( x ) )\n",
    "print( \"np.min(x): {}\".format(np.min(x) ) )\n",
    "print( \"np.max(x): {}\".format(np.max(x)  ) )\n",
    "print( \"Unique elements: np.unique(x):\\n {}\".format( np.unique(x)  ) )\n",
    "print( \"np.mean(x): {}\".format( np.mean(x) ) )\n",
    "print( \"np.std(x): {}\".format( np.std(x) ) )"
   ]
  },
  {
   "cell_type": "code",
   "execution_count": 98,
   "metadata": {},
   "outputs": [
    {
     "name": "stdout",
     "output_type": "stream",
     "text": [
      "range(x): 3\n",
      "norm2(x): 60\n"
     ]
    }
   ],
   "source": [
    "#Combine basic operatins to obtains desired operations\n",
    "x=np.array([1,1,2,2,3,3,4,4])\n",
    "def range(x):\n",
    "    return np.max(x)-np.min(x)\n",
    "def norm2(x):\n",
    "    return np.sum(x*x)\n",
    "print( \"range(x): {}\".format(range(x)  ) )\n",
    "print( \"norm2(x): {}\".format(norm2(x)  ) )\n"
   ]
  },
  {
   "cell_type": "markdown",
   "metadata": {},
   "source": [
    "### Functions might be different from different libraries"
   ]
  },
  {
   "cell_type": "code",
   "execution_count": 99,
   "metadata": {},
   "outputs": [
    {
     "name": "stdout",
     "output_type": "stream",
     "text": [
      "x:\n",
      " [[  1.  10. 100.]\n",
      " [  1.  10. 100.]\n",
      " [  1.  10. 100.]]\n",
      "Sum from base Python package: sum(x): \n",
      "[  3.  30. 300.]\n",
      "Sum from Numpy:  np.sum(x): \n",
      "333.0\n"
     ]
    }
   ],
   "source": [
    "x=np.ones((3,3))*[1,10,100]\n",
    "print( \"x:\\n {}\".format(x  ) )\n",
    "print( \"Sum from base Python package: sum(x): \\n{}\".format( sum(x) ) )\n",
    "print( \"Sum from Numpy:  np.sum(x): \\n{}\".format( np.sum(x) ) )"
   ]
  },
  {
   "cell_type": "markdown",
   "metadata": {},
   "source": [
    "## Sorting\n",
    "There are 3 functions:\n",
    "np.sort(): sorts and gives you the sorted output\n",
    "np.argsort(): sorts and gives the indices that sorts that array. It is useful when you want to rearrange several array based on order obtained from another array\n",
    "np.ndarray.sort(x) : sorts the array in place (no output)"
   ]
  },
  {
   "cell_type": "code",
   "execution_count": 100,
   "metadata": {},
   "outputs": [
    {
     "name": "stdout",
     "output_type": "stream",
     "text": [
      "x:\n",
      " [10  1 20  2 30  3 40  4]\n",
      "xs:\n",
      " [ 1  2  3  4 10 20 30 40]\n",
      "x:\n",
      " [ 1  2  3  4 10 20 30 40]\n",
      "ind:\n",
      " [1 3 5 7 0 2 4 6]\n",
      "x sorted:\n",
      " [ 1  2  3  4 10 20 30 40]\n",
      "y rearranged based on the order in x:\n",
      " [1. 3. 5. 7. 0. 2. 4. 6.]\n"
     ]
    }
   ],
   "source": [
    "x=np.array([10,1,20,2,30,3,40,4])\n",
    "xs=np.sort(x)\n",
    "print( \"x:\\n {}\".format(  x) )\n",
    "print( \"xs:\\n {}\".format(  xs) )\n",
    "\n",
    "x=np.array([10,1,20,2,30,3,40,4])\n",
    "np.ndarray.sort(x)\n",
    "print( \"x:\\n {}\".format(  x) )\n",
    "\n",
    "\n",
    "x=np.array([10,1,20,2,30,3,40,4])\n",
    "y=np.linspace(0,7,8)\n",
    "ind = np.argsort(x)\n",
    "print( \"ind:\\n {}\".format(  ind))\n",
    "print( \"x sorted:\\n {}\".format(  x[ind] ))\n",
    "print( \"y rearranged based on the order in x:\\n {}\".format(  y[ind]))           \n"
   ]
  },
  {
   "cell_type": "markdown",
   "metadata": {},
   "source": [
    "## Indexing and slicing\n",
    " \"slicing extends Python’s basic concept of slicing to N dimensions. Basic slicing occurs when obj is a slice object (constructed by start:stop:step notation inside of brackets), an integer, or a tuple of slice objects and integers. Ellipsis and newaxis objects can be interspersed with these as well.\"\n",
    " https://docs.scipy.org/doc/numpy/reference/arrays.indexing.html\n",
    " "
   ]
  },
  {
   "cell_type": "code",
   "execution_count": 126,
   "metadata": {},
   "outputs": [
    {
     "name": "stdout",
     "output_type": "stream",
     "text": [
      "x: [0 1 2 3 4 5 6 7 8 9]\n",
      "x[0::2]:\n",
      " [0 2 4 6 8]\n",
      "Adding a new dimension (axis to array) [[0 1 2 3 4 5 6 7 8 9]]\n"
     ]
    }
   ],
   "source": [
    "x=np.arange(0,10,1)\n",
    "print( \"x: {}\".format( x ) )\n",
    "print( \"x[0::2]:\\n {}\".format(x[0::2]) )\n",
    "print( \"Adding a new dimension (axis to array) {}\".format( x[np.newaxis,] ) )"
   ]
  },
  {
   "cell_type": "code",
   "execution_count": 160,
   "metadata": {},
   "outputs": [
    {
     "name": "stdout",
     "output_type": "stream",
     "text": [
      "x[:,0] is the same as x[:,0,:,:]. Are any elements different: False\n",
      "x[...,0]:\n",
      " [[[10. 10. 10.]\n",
      "  [10. 10. 10.]\n",
      "  [10. 10. 10.]]\n",
      "\n",
      " [[10. 10. 10.]\n",
      "  [10. 10. 10.]\n",
      "  [10. 10. 10.]]\n",
      "\n",
      " [[10. 10. 10.]\n",
      "  [10. 10. 10.]\n",
      "  [10. 10. 10.]]]\n",
      "x[:,:,:,0]:\n",
      " [[[10. 10. 10.]\n",
      "  [10. 10. 10.]\n",
      "  [10. 10. 10.]]\n",
      "\n",
      " [[10. 10. 10.]\n",
      "  [10. 10. 10.]\n",
      "  [10. 10. 10.]]\n",
      "\n",
      " [[10. 10. 10.]\n",
      "  [10. 10. 10.]\n",
      "  [10. 10. 10.]]]\n"
     ]
    }
   ],
   "source": [
    "x=np.ones((3,3,3,3))\n",
    "# x is a mulidimensional array\n",
    "x[...,0]=x[...,0]*10\n",
    "x[...,1]=x[...,1]*20\n",
    "x[...,2]=x[...,2]*30\n",
    "#\"If the number of objects in the selection tuple is less than N , then : is assumed for any subsequent dimensions.\"\"\n",
    "print( \"x[:,0] is the same as x[:,0,:,:]. Are any elements different: {}\".format(   np.any(x[:,0]!=x[:,0,:,:]) ) )\n",
    "#To access the last dimension either we need to type all the \":\" till the desired dimension or use elipsis\n",
    "print( \"x[...,0]:\\n {}\".format( x[...,0] ) )\n",
    "print( \"x[:,:,:,0]:\\n {}\".format( x[...,0] ) )"
   ]
  },
  {
   "cell_type": "markdown",
   "metadata": {},
   "source": [
    "\"Note\n",
    "NumPy slicing creates a view instead of a copy as in the case of builtin Python sequences such as string, tuple and list. Care must be taken when extracting a small portion from a large array which becomes useless after the extraction, because the small portion extracted contains a reference to the large original array whose memory will not be released until all arrays derived from it are garbage-collected. In such cases an explicit copy() is recommended.\""
   ]
  },
  {
   "cell_type": "code",
   "execution_count": null,
   "metadata": {},
   "outputs": [],
   "source": []
  },
  {
   "cell_type": "code",
   "execution_count": null,
   "metadata": {},
   "outputs": [],
   "source": []
  }
 ],
 "metadata": {
  "kernelspec": {
   "display_name": "Python 3",
   "language": "python",
   "name": "python3"
  },
  "language_info": {
   "codemirror_mode": {
    "name": "ipython",
    "version": 3
   },
   "file_extension": ".py",
   "mimetype": "text/x-python",
   "name": "python",
   "nbconvert_exporter": "python",
   "pygments_lexer": "ipython3",
   "version": "3.6.9"
  }
 },
 "nbformat": 4,
 "nbformat_minor": 2
}
