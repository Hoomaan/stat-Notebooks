{
 "cells": [
  {
   "cell_type": "markdown",
   "metadata": {},
   "source": [
    "# This notebook looks at basic numerical operations using numpy\n"
   ]
  },
  {
   "cell_type": "code",
   "execution_count": 1,
   "metadata": {},
   "outputs": [],
   "source": [
    "import numpy as np\n",
    "import matplotlib.pyplot  as plt"
   ]
  },
  {
   "cell_type": "code",
   "execution_count": 19,
   "metadata": {},
   "outputs": [],
   "source": [
    "x1=np.random.rand(100)"
   ]
  },
  {
   "cell_type": "code",
   "execution_count": 20,
   "metadata": {},
   "outputs": [
    {
     "data": {
      "text/plain": [
       "array([0.25572053, 0.21974641, 0.2746451 , 0.70537024, 0.30505371,\n",
       "       0.45370161, 0.90335147, 0.85178096, 0.4136959 , 0.86814436,\n",
       "       0.37233191, 0.38220358, 0.79797525, 0.24532903, 0.65390491,\n",
       "       0.56750158, 0.88757914, 0.98387514, 0.24673413, 0.83315577,\n",
       "       0.51243989, 0.02803471, 0.59210609, 0.40879948, 0.60937988,\n",
       "       0.30388898, 0.4981631 , 0.49338509, 0.02830665, 0.29247665,\n",
       "       0.64425603, 0.8270845 , 0.98407632, 0.7558692 , 0.25225785,\n",
       "       0.82559366, 0.50188757, 0.18126185, 0.2382392 , 0.94878104,\n",
       "       0.93890058, 0.53033295, 0.4917723 , 0.40678961, 0.43676452,\n",
       "       0.1038805 , 0.59959501, 0.14383054, 0.74915434, 0.85817841,\n",
       "       0.74868565, 0.06997472, 0.14484928, 0.58436862, 0.81491532,\n",
       "       0.87984428, 0.2335796 , 0.19256509, 0.91623333, 0.10751258,\n",
       "       0.9962767 , 0.85458124, 0.28753475, 0.62336273, 0.42527417,\n",
       "       0.73530436, 0.71333541, 0.36195263, 0.37122205, 0.70913894,\n",
       "       0.26928396, 0.8155343 , 0.49494848, 0.72927826, 0.74809266,\n",
       "       0.69293991, 0.26449579, 0.90390701, 0.18213027, 0.35206376,\n",
       "       0.71120842, 0.12940964, 0.67250673, 0.58251594, 0.60576936,\n",
       "       0.75813721, 0.02212928, 0.16429006, 0.38878481, 0.18240892,\n",
       "       0.57131783, 0.18796927, 0.37275828, 0.33870148, 0.85302547,\n",
       "       0.99775013, 0.13288992, 0.29420274, 0.75564537, 0.51129653])"
      ]
     },
     "execution_count": 20,
     "metadata": {},
     "output_type": "execute_result"
    }
   ],
   "source": [
    "x1"
   ]
  },
  {
   "cell_type": "code",
   "execution_count": 11,
   "metadata": {},
   "outputs": [
    {
     "data": {
      "text/plain": [
       "0.00385680642198305"
      ]
     },
     "execution_count": 11,
     "metadata": {},
     "output_type": "execute_result"
    }
   ],
   "source": [
    "np.min(x1)"
   ]
  },
  {
   "cell_type": "code",
   "execution_count": 16,
   "metadata": {},
   "outputs": [],
   "source": [
    "def range(x):\n",
    "    return np.max(x)-np.min(x)"
   ]
  },
  {
   "cell_type": "code",
   "execution_count": 15,
   "metadata": {},
   "outputs": [
    {
     "name": "stdout",
     "output_type": "stream",
     "text": [
      "Calculate the range\n"
     ]
    },
    {
     "data": {
      "text/plain": [
       "0.9711286911941255"
      ]
     },
     "execution_count": 15,
     "metadata": {},
     "output_type": "execute_result"
    }
   ],
   "source": [
    "range(x1)"
   ]
  },
  {
   "cell_type": "code",
   "execution_count": 32,
   "metadata": {},
   "outputs": [
    {
     "name": "stdout",
     "output_type": "stream",
     "text": [
      "x1 shape is (3,)\n",
      "x2 shape is (3, 1)\n",
      "x3 shape is (1, 3)\n"
     ]
    }
   ],
   "source": [
    "x1=np.random.rand(3)\n",
    "x2=np.random.rand(3,1)\n",
    "x3=np.random.rand(1,3)\n",
    "print ('x1 shape is {0}'.format(x1.shape))\n",
    "print ('x2 shape is {0}'.format(x2.shape))\n",
    "print ('x3 shape is {0}'.format(x3.shape))"
   ]
  },
  {
   "cell_type": "code",
   "execution_count": 33,
   "metadata": {},
   "outputs": [
    {
     "data": {
      "text/plain": [
       "array([[0.99430009, 1.0826294 , 1.54170721],\n",
       "       [0.70274288, 0.79107219, 1.25015   ],\n",
       "       [0.44001734, 0.52834665, 0.98742446]])"
      ]
     },
     "execution_count": 33,
     "metadata": {},
     "output_type": "execute_result"
    }
   ],
   "source": [
    "x1+x2"
   ]
  }
 ],
 "metadata": {
  "kernelspec": {
   "display_name": "Python 3",
   "language": "python",
   "name": "python3"
  },
  "language_info": {
   "codemirror_mode": {
    "name": "ipython",
    "version": 3
   },
   "file_extension": ".py",
   "mimetype": "text/x-python",
   "name": "python",
   "nbconvert_exporter": "python",
   "pygments_lexer": "ipython3",
   "version": "3.6.9"
  }
 },
 "nbformat": 4,
 "nbformat_minor": 2
}
