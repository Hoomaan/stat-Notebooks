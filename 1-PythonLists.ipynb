{
 "cells": [
  {
   "cell_type": "markdown",
   "metadata": {},
   "source": [
    "## This notbook contains basic manipulation of numerical matrices in Python."
   ]
  },
  {
   "cell_type": "code",
   "execution_count": 1,
   "metadata": {},
   "outputs": [],
   "source": [
    "import numpy as np"
   ]
  },
  {
   "cell_type": "markdown",
   "metadata": {},
   "source": [
    "### This is a List object. Possibilities in Numerical manipulations of lists are unlimited. This may not be the most handy way."
   ]
  },
  {
   "cell_type": "code",
   "execution_count": 2,
   "metadata": {},
   "outputs": [
    {
     "name": "stdout",
     "output_type": "stream",
     "text": [
      "You can sum over it 10\n",
      "Take minimum 1\n",
      "or maximum 4\n",
      "How long it is 4\n"
     ]
    }
   ],
   "source": [
    "L=[1,2,3,4]\n",
    "print('You can sum over it {}'.format( sum(L)))\n",
    "print('Take minimum {}'.format( min(L)))\n",
    "print('or maximum {}'.format( max(L)))\n",
    "print('How long it is {}'.format( len(L)) )"
   ]
  },
  {
   "cell_type": "markdown",
   "metadata": {},
   "source": [
    "You cannot add a number to it"
   ]
  },
  {
   "cell_type": "code",
   "execution_count": 3,
   "metadata": {},
   "outputs": [
    {
     "name": "stdout",
     "output_type": "stream",
     "text": [
      "Error: can only concatenate list (not \"int\") to list\n"
     ]
    }
   ],
   "source": [
    "try:\n",
    "    L+1\n",
    "except Exception as e:\n",
    "    print('Error: '+ str(e))"
   ]
  },
  {
   "cell_type": "markdown",
   "metadata": {},
   "source": [
    "### You can multiply it by a number, but you will not get arithmetic multiplication"
   ]
  },
  {
   "cell_type": "code",
   "execution_count": 4,
   "metadata": {},
   "outputs": [
    {
     "data": {
      "text/plain": [
       "[1, 2, 3, 4, 1, 2, 3, 4]"
      ]
     },
     "execution_count": 4,
     "metadata": {},
     "output_type": "execute_result"
    }
   ],
   "source": [
    "L*2"
   ]
  },
  {
   "cell_type": "markdown",
   "metadata": {},
   "source": [
    "You can add a lis to it, which results in a new list without changing L"
   ]
  },
  {
   "cell_type": "code",
   "execution_count": 5,
   "metadata": {},
   "outputs": [
    {
     "name": "stdout",
     "output_type": "stream",
     "text": [
      "[1, 2, 3, 4, 10, 20]\n",
      "[1, 2, 3, 4]\n"
     ]
    }
   ],
   "source": [
    "L=[1,2,3,4]\n",
    "print(L+[10,20])\n",
    "print(L)"
   ]
  },
  {
   "cell_type": "markdown",
   "metadata": {},
   "source": [
    "Or you can append elements one by one to it"
   ]
  },
  {
   "cell_type": "code",
   "execution_count": 6,
   "metadata": {},
   "outputs": [
    {
     "name": "stdout",
     "output_type": "stream",
     "text": [
      "[1, 2, 3, 4, 10, 20]\n"
     ]
    }
   ],
   "source": [
    "L=[1,2,3,4]\n",
    "L.append(10)\n",
    "L.append(20)\n",
    "print(L)"
   ]
  },
  {
   "cell_type": "markdown",
   "metadata": {},
   "source": [
    "If you want to do arithmetic on list you can use loops."
   ]
  },
  {
   "cell_type": "code",
   "execution_count": 7,
   "metadata": {},
   "outputs": [
    {
     "name": "stdout",
     "output_type": "stream",
     "text": [
      "L: [11, 12, 13, 14, 15, 16]\n"
     ]
    }
   ],
   "source": [
    "#Adding 10 to members of a list\n",
    "L=[1,2,3,4,5,6]\n",
    "for i in range(0,len(L)):\n",
    "    L[i]=L[i]+10\n",
    "print( \"L: {}\".format(L ) )    "
   ]
  },
  {
   "cell_type": "markdown",
   "metadata": {},
   "source": [
    "### Or you can use list comprehension"
   ]
  },
  {
   "cell_type": "code",
   "execution_count": 8,
   "metadata": {},
   "outputs": [
    {
     "name": "stdout",
     "output_type": "stream",
     "text": [
      "L: [11, 12, 13, 14, 15, 16]\n"
     ]
    }
   ],
   "source": [
    "#Adding 10 to members of a list\n",
    "L=[1,2,3,4,5,6]\n",
    "L=[x+10 for x in L]\n",
    "print( \"L: {}\".format(L ) )   "
   ]
  },
  {
   "cell_type": "markdown",
   "metadata": {},
   "source": [
    "List comprehension on two lists can be done by using zip() function, which combines the two lists into a list of tuples"
   ]
  },
  {
   "cell_type": "code",
   "execution_count": 9,
   "metadata": {},
   "outputs": [
    {
     "name": "stdout",
     "output_type": "stream",
     "text": [
      "L: [1, 2, 3, 4, 5, 6]\n",
      "M: [100, 200, 300, 400, 500, 600]\n",
      "Now adding list members element by element\n"
     ]
    },
    {
     "data": {
      "text/plain": [
       "[101, 202, 303, 404, 505, 606]"
      ]
     },
     "execution_count": 9,
     "metadata": {},
     "output_type": "execute_result"
    }
   ],
   "source": [
    "L=[1,2,3,4,5,6]\n",
    "M=[x*100 for x in L]\n",
    "print( \"L: {}\".format(L ) )   \n",
    "print( \"M: {}\".format(M ) )   \n",
    "print('Now adding list members element by element')\n",
    "[x + y for x,y in zip(L,M)]"
   ]
  },
  {
   "cell_type": "markdown",
   "metadata": {},
   "source": [
    "## Slicing and indexing:"
   ]
  },
  {
   "cell_type": "code",
   "execution_count": 10,
   "metadata": {},
   "outputs": [
    {
     "name": "stdout",
     "output_type": "stream",
     "text": [
      "Index starts from 0. L[0:2] is:   [10, 20]\n",
      "L[1:3] is:   [20, 30]\n",
      "L[1:] is going all the way to the end:   [20, 30, 40, 50, 60]\n",
      "L[1:-1] is going all the way to one element before the end:   [20, 30, 40, 50]\n",
      "You can select every second element. L[start:end:step]  [10, 30, 50]\n",
      "You can select every third element. L[start:end:step]  [10, 40]\n",
      "You can easily inverse the order of the list by  L[::-1]: [60, 50, 40, 30, 20, 10]\n"
     ]
    }
   ],
   "source": [
    "L=[10,20,30,40,50,60]\n",
    "print( \"Index starts from 0. L[0:2] is:   {}\".format(L[0:2]  ) )\n",
    "print( \"L[1:3] is:   {}\".format(L[1:3]  ) )\n",
    "print( \"L[1:] is going all the way to the end:   {}\".format(L[1:]  ) )\n",
    "print( \"L[1:-1] is going all the way to one element before the end:   {}\".format(L[1:-1]  ) )\n",
    "print( \"You can select every second element. L[start:end:step]  {}\".format(L[0::2]  ) )\n",
    "print( \"You can select every third element. L[start:end:step]  {}\".format(L[0::3]  ) )\n",
    "print( \"You can easily inverse the order of the list by  L[::-1]: {}\".format(L[::-1] ) )"
   ]
  },
  {
   "cell_type": "markdown",
   "metadata": {},
   "source": [
    "### If you just use = to make a copy of a list then you only copy the reference (pointer to the memory location).\n",
    "### In the following block after M=L both variables point to the same numbers in the memory. So when you change one the other also changes."
   ]
  },
  {
   "cell_type": "code",
   "execution_count": 11,
   "metadata": {},
   "outputs": [
    {
     "name": "stdout",
     "output_type": "stream",
     "text": [
      "L: [1, 2, 3, 4, 5, 6]\n",
      "M: [1, 2, 3, 4, 5, 6]\n",
      "M: [100, 200, 300, 400, 500, 600]\n",
      "L: [100, 200, 300, 400, 500, 600]\n"
     ]
    }
   ],
   "source": [
    "L=[1,2,3,4,5,6]\n",
    "M=L # a copy of reference\n",
    "print( \"L: {}\".format(L ) )   \n",
    "print( \"M: {}\".format(M ) )   \n",
    "for i in range(0,len(M)):\n",
    "    M[i]=M[i]*100\n",
    "print( \"M: {}\".format(M ) ) # this is intended and expexted bahaviour\n",
    "print( \"L: {}\".format(L ) ) # This might look surprizing after all we only touched M  \n"
   ]
  },
  {
   "cell_type": "markdown",
   "metadata": {},
   "source": [
    "### The slicing operator makes a shallow copy of the list and after M=L[::], M and L point to different locations in the memory. If the members of L however are list themselve then the dependency between M and L remains."
   ]
  },
  {
   "cell_type": "code",
   "execution_count": 12,
   "metadata": {},
   "outputs": [
    {
     "name": "stdout",
     "output_type": "stream",
     "text": [
      "L: [1, 2, 3, 4, 5, 6]\n",
      "M: [1, 2, 3, 4, 5, 6]\n",
      "M: [100, 200, 300, 400, 500, 600]\n",
      "L: [1, 2, 3, 4, 5, 6]\n"
     ]
    }
   ],
   "source": [
    "L=[1,2,3,4,5,6]\n",
    "M=L[::] # a shallow copy\n",
    "print( \"L: {}\".format(L ) )   \n",
    "print( \"M: {}\".format(M ) )   \n",
    "for i in range(0,len(M)):\n",
    "    M[i]=M[i]*100\n",
    "print( \"M: {}\".format(M ) ) \n",
    "print( \"L: {}\".format(L ) )  "
   ]
  },
  {
   "cell_type": "code",
   "execution_count": 13,
   "metadata": {},
   "outputs": [
    {
     "name": "stdout",
     "output_type": "stream",
     "text": [
      "L: [1, 2, [30, 40]]\n",
      "M: [1, 2, [30, 40]]\n",
      "M: [1, 2000, [30000, 40]]\n",
      "L: [1, 2, [30000, 40]]\n",
      "Notice how the second element of L is not changed but the first element of the third element is changed.\n"
     ]
    }
   ],
   "source": [
    "L=[1,2,[30,40]]\n",
    "M=L[::] # a shallow copy\n",
    "print( \"L: {}\".format(L ) )   \n",
    "print( \"M: {}\".format(M ) )   \n",
    "M[1]=M[1]*1000\n",
    "M[2][0]=M[2][0]*1000\n",
    "print( \"M: {}\".format(M ) ) # this is intended and expexted bahaviour\n",
    "print( \"L: {}\".format(L ) ) # This might look surprizing !  \n",
    "print(\"Notice how the second element of L is not changed but the first element of the third element is changed.\")\n"
   ]
  },
  {
   "cell_type": "markdown",
   "metadata": {},
   "source": [
    "If you want a deep copy then you should use deepcopy"
   ]
  },
  {
   "cell_type": "code",
   "execution_count": 14,
   "metadata": {},
   "outputs": [],
   "source": [
    "L=[1,2,[30,40]]\n",
    "from copy import deepcopy\n",
    "M = deepcopy(L)"
   ]
  }
 ],
 "metadata": {
  "kernelspec": {
   "display_name": "Python 3",
   "language": "python",
   "name": "python3"
  },
  "language_info": {
   "codemirror_mode": {
    "name": "ipython",
    "version": 3
   },
   "file_extension": ".py",
   "mimetype": "text/x-python",
   "name": "python",
   "nbconvert_exporter": "python",
   "pygments_lexer": "ipython3",
   "version": "3.6.9"
  }
 },
 "nbformat": 4,
 "nbformat_minor": 2
}
